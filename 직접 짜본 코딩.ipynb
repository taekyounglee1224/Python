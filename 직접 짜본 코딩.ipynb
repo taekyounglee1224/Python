{
 "cells": [
  {
   "cell_type": "code",
   "execution_count": 39,
   "id": "1f7bac58-4b6b-432a-836f-48defd11f306",
   "metadata": {},
   "outputs": [
    {
     "name": "stdin",
     "output_type": "stream",
     "text": [
      "Enter your height in meters 1.78\n",
      "Enter your weight in kg 61\n"
     ]
    },
    {
     "name": "stdout",
     "output_type": "stream",
     "text": [
      "Your BMI is 19.25 Normal\n"
     ]
    }
   ],
   "source": [
    "#BMI Calculation using 'if,elif,else'\n",
    "height=float(input('Enter your height in meters'))\n",
    "weight=float(input('Enter your weight in kg'))\n",
    "BMI=weight/height**2\n",
    "if BMI>=30:\n",
    "    print(f'Your BMI is {BMI:.2f}','Severely Obese')\n",
    "elif BMI>=25:\n",
    "    print(f'Your BMI is {BMI:.2f}','Obese')\n",
    "elif BMI>=23.5:\n",
    "    print(f'Your BMI is {BMI:.2f}','Overweight')\n",
    "elif BMI>=18.5:\n",
    "    print(f'Your BMI is {BMI:.2f}','Normal')\n",
    "else:\n",
    "    print(f'Your BMI is {BMI:.2f}','Underweight')"
   ]
  },
  {
   "cell_type": "code",
   "execution_count": 2,
   "id": "dbfc4992-3a75-4bfe-935a-1fa47b160191",
   "metadata": {},
   "outputs": [
    {
     "name": "stdout",
     "output_type": "stream",
     "text": [
      "Total grade is 868.00\n",
      "Number of students is 10\n",
      "Class average is 86.80\n"
     ]
    }
   ],
   "source": [
    "#Class average Calculation using 'for'\n",
    "total=0\n",
    "NumStudents=0\n",
    "grades=[89,84,92,97,81,90,78,85,98,74]\n",
    "\n",
    "for a in grades:\n",
    "    total+=a\n",
    "    NumStudents+=1\n",
    "    average=total/NumStudents\n",
    "print(f'Total grade is {total:.2f}')\n",
    "print(f'Number of students is {NumStudents}')\n",
    "print(f'Class average is {average:.2f}')"
   ]
  },
  {
   "cell_type": "code",
   "execution_count": 9,
   "id": "f01a99ba-a22c-4802-bef4-8dccb3d4b7db",
   "metadata": {},
   "outputs": [
    {
     "name": "stdout",
     "output_type": "stream",
     "text": [
      "Congratulations No.2 candidate, you passed!\n",
      "Congratulations No.4 candidate, you passed!\n",
      "Congratulations No.5 candidate, you passed!\n"
     ]
    }
   ],
   "source": [
    "#Sorting Successful Candidates using 'continue'\n",
    "score=[45,65,25,70,85]\n",
    "for n in range(len(score)):\n",
    "    if score[n]<60:\n",
    "        continue\n",
    "    print(f'Congratulations No.{n+1} candidate, you passed!')"
   ]
  },
  {
   "cell_type": "code",
   "execution_count": 16,
   "id": "a5ed27ed-f77b-462e-9799-e8b87266cb1e",
   "metadata": {},
   "outputs": [
    {
     "name": "stdout",
     "output_type": "stream",
     "text": [
      "Volume=523.60,   Surface=314.16\n"
     ]
    },
    {
     "data": {
      "text/plain": [
       "\u001b[1;31mSignature:\u001b[0m \u001b[0msphere\u001b[0m\u001b[1;33m(\u001b[0m\u001b[0mr\u001b[0m\u001b[1;33m)\u001b[0m\u001b[1;33m\u001b[0m\u001b[1;33m\u001b[0m\u001b[0m\n",
       "\u001b[1;31mDocstring:\u001b[0m Calculates the volume and surface of a sphere using r(radius)\n",
       "\u001b[1;31mFile:\u001b[0m      c:\\users\\82107\\appdata\\local\\temp\\ipykernel_10420\\577983383.py\n",
       "\u001b[1;31mType:\u001b[0m      function\n"
      ]
     },
     "metadata": {},
     "output_type": "display_data"
    }
   ],
   "source": [
    "#Calculating the volume and surface of a sphere using 'def, return'\n",
    "import math\n",
    "def sphere(r):\n",
    "    \"\"\"Calculates the volume and surface of a sphere using r(radius)\"\"\"\n",
    "    return 4/3*math.pi*r**3, 4*math.pi*r**2\n",
    "\n",
    "sphere?\n",
    "\n",
    "r=5\n",
    "print(f'Volume={4/3*math.pi*r**3:.2f},   Surface={4*math.pi*r**2:.2f}')"
   ]
  },
  {
   "cell_type": "code",
   "execution_count": 17,
   "id": "6884155a-0d22-479d-ad20-b33d6ffb8999",
   "metadata": {},
   "outputs": [
    {
     "name": "stdout",
     "output_type": "stream",
     "text": [
      "Face    Frequency    Ratio(%)\n",
      "   1         1743       17.43\n",
      "   2         1640       16.40\n",
      "   3         1676       16.76\n",
      "   4         1652       16.52\n",
      "   5         1655       16.55\n",
      "   6         1634       16.34\n"
     ]
    }
   ],
   "source": [
    "#Rolling a dice 10,000 times\n",
    "import random\n",
    "freq1=0\n",
    "freq2=0\n",
    "freq3=0\n",
    "freq4=0\n",
    "freq5=0\n",
    "freq6=0\n",
    "sample=10000\n",
    "for roll in range(sample):\n",
    "    face= random.randrange(1,7)\n",
    "    if face==1:\n",
    "        freq1+=1\n",
    "    if face==2:\n",
    "        freq2+=1\n",
    "    if face==3:\n",
    "        freq3+=1\n",
    "    if face==4:\n",
    "        freq4+=1\n",
    "    if face==5:\n",
    "        freq5+=1\n",
    "    if face==6:\n",
    "        freq6+=1\n",
    "print(f'{\"Face\"}{\"Frequency\":>13}{\"Ratio(%)\":>12}')\n",
    "print(f'{1:>4}{freq1:>13}{freq1/sample*100:>12.2f}')\n",
    "print(f'{2:>4}{freq2:>13}{freq2/sample*100:>12.2f}')\n",
    "print(f'{3:>4}{freq3:>13}{freq3/sample*100:>12.2f}')\n",
    "print(f'{4:>4}{freq4:>13}{freq4/sample*100:>12.2f}')\n",
    "print(f'{5:>4}{freq5:>13}{freq5/sample*100:>12.2f}')\n",
    "print(f'{6:>4}{freq6:>13}{freq6/sample*100:>12.2f}')"
   ]
  },
  {
   "cell_type": "code",
   "execution_count": 18,
   "id": "181725d5-a5da-4278-b725-18d39eb3c134",
   "metadata": {},
   "outputs": [
    {
     "name": "stdout",
     "output_type": "stream",
     "text": [
      "Creating a bar chart\n",
      "Index   Value    Bar\n",
      "    1      10    **********\n",
      "    2       4    ****\n",
      "    3       9    *********\n",
      "    4       7    *******\n",
      "    5       5    *****\n"
     ]
    }
   ],
   "source": [
    "#Creating a Bar Chart\n",
    "bar=[10,4,9,7,5]\n",
    "print(\"Creating a bar chart\")\n",
    "print(f'Index{\"Value\":>8}{\"Bar\":>7}')\n",
    "for index, value in enumerate(bar):\n",
    "      print(f'{(index+1):>5}{value:>8}    {\"*\"*value}')"
   ]
  },
  {
   "cell_type": "code",
   "execution_count": null,
   "id": "3a3fe77a-09b3-4245-bf68-4e4f5a52ddc4",
   "metadata": {},
   "outputs": [],
   "source": []
  }
 ],
 "metadata": {
  "kernelspec": {
   "display_name": "Python 3 (ipykernel)",
   "language": "python",
   "name": "python3"
  },
  "language_info": {
   "codemirror_mode": {
    "name": "ipython",
    "version": 3
   },
   "file_extension": ".py",
   "mimetype": "text/x-python",
   "name": "python",
   "nbconvert_exporter": "python",
   "pygments_lexer": "ipython3",
   "version": "3.7.11"
  }
 },
 "nbformat": 4,
 "nbformat_minor": 5
}
