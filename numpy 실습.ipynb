{
 "cells": [
  {
   "cell_type": "code",
   "execution_count": 25,
   "id": "077d669f-5fe4-4381-897e-0ef0e4da11ce",
   "metadata": {},
   "outputs": [
    {
     "name": "stdout",
     "output_type": "stream",
     "text": [
      "[ 7  8  9 10 11]\n",
      "Object Type:  <class 'numpy.ndarray'>\n",
      "  Data Type:  int32\n",
      "      Shape: (5,)\n",
      "  Dimension:  1\n",
      "  Array Size  5\n",
      "[[ 7  8  9 10 11]] (1, 5)\n",
      "Dim = 2 , Size = 5\n"
     ]
    }
   ],
   "source": [
    "#One Dimensional Array\n",
    "import numpy as np\n",
    "a=np.array([7,8,9,10,11])\n",
    "print(f'{a}\\n{\"Object Type:\":>12}  {type(a)}\\n{\"Data Type:\":>12}  {a.dtype}\\n{\"Shape:\":>12} \\\n",
    "{a.shape}\\n{\"Dimension:\":>12}  {a.ndim}\\n{\"Array Size\":>12}  {a.size}')\n",
    "a1=np.array([a])\n",
    "print(a1, a1.shape)\n",
    "print(\"Dim =\",a1.ndim,\",\",\"Size =\",a1.size)"
   ]
  },
  {
   "cell_type": "code",
   "execution_count": 15,
   "id": "64c66f3e-c1cd-439d-8e71-3d7967dc1f76",
   "metadata": {},
   "outputs": [
    {
     "name": "stdout",
     "output_type": "stream",
     "text": [
      "[[ 1.   2.   3.   4.   5. ]\n",
      " [ 8.   9.  10.  11.  12.1]]\n",
      " Object Type  <class 'numpy.ndarray'>\n",
      "  Data Type:  float64\n",
      "      Shape: (2, 5)\n",
      "  Dimension:  2\n",
      " Array Size:  10\n"
     ]
    }
   ],
   "source": [
    "#Two Dimensional Array\n",
    "b=np.array([[1.0,2,3,4,5],[8,9,10,11,12.1]])\n",
    "print(f'{b}\\n{\"Object Type\":>12}  {type(b)}\\n{\"Data Type:\":>12}  {b.dtype}\\n{\"Shape:\":>12} \\\n",
    "{b.shape}\\n{\"Dimension:\":>12}  {b.ndim}\\n{\"Array Size:\":>12}  {b.size}')"
   ]
  },
  {
   "cell_type": "code",
   "execution_count": 27,
   "id": "3d488269-b1a1-476f-914f-2897bab847c4",
   "metadata": {},
   "outputs": [
    {
     "name": "stdout",
     "output_type": "stream",
     "text": [
      "[[[ 1  2  3]\n",
      "  [ 4  5  6]\n",
      "  [-1 -2 -3]]\n",
      "\n",
      " [[ 7  8  9]\n",
      "  [10 11 12]\n",
      "  [-4 -5 -6]]]\n",
      " Object Type  <class 'numpy.ndarray'>\n",
      "  Data Type:  int32\n",
      "      Shape: (2, 3, 3)\n",
      "  Dimension:  3\n",
      " Array Size:  18\n"
     ]
    }
   ],
   "source": [
    "#Three Dimensional Array\n",
    "c=np.array([[[1,2,3],[4,5,6],[-1,-2,-3]],[[7,8,9],[10,11,12],[-4,-5,-6]]])\n",
    "print(f'{c}\\n{\"Object Type\":>12}  {type(c)}\\n{\"Data Type:\":>12}  {c.dtype}\\n{\"Shape:\":>12} \\\n",
    "{c.shape}\\n{\"Dimension:\":>12}  {c.ndim}\\n{\"Array Size:\":>12}  {c.size}')"
   ]
  },
  {
   "cell_type": "code",
   "execution_count": 29,
   "id": "a4164b40-f7b1-4ebb-9c08-1f478a3dbbcf",
   "metadata": {},
   "outputs": [
    {
     "name": "stdout",
     "output_type": "stream",
     "text": [
      "[[[1 2 3 4]\n",
      "  [6 7 8 9]]]\n",
      " Object Type  <class 'numpy.ndarray'>\n",
      "  Data Type:  int32\n",
      "      Shape: (1, 2, 4)\n",
      "  Dimension:  3\n",
      " Array Size:  8\n"
     ]
    }
   ],
   "source": [
    "c1=np.array([[[1,2,3,4],[6,7,8,9]]])\n",
    "print(f'{c1}\\n{\"Object Type\":>12}  {type(c1)}\\n{\"Data Type:\":>12}  {c1.dtype}\\n{\"Shape:\":>12} \\\n",
    "{c1.shape}\\n{\"Dimension:\":>12}  {c1.ndim}\\n{\"Array Size:\":>12}  {c1.size}')"
   ]
  },
  {
   "cell_type": "code",
   "execution_count": 30,
   "id": "b4bd005e-a69d-49f8-8bb2-51e7003fb1cc",
   "metadata": {},
   "outputs": [
    {
     "name": "stdout",
     "output_type": "stream",
     "text": [
      "[[[1 2 3 4 5 6]]]\n",
      " Object Type  <class 'numpy.ndarray'>\n",
      "  Data Type:  int32\n",
      "      Shape: (1, 1, 6)\n",
      "  Dimension:  3\n",
      " Array Size:  6\n"
     ]
    }
   ],
   "source": [
    "c2=np.array([[[1,2,3,4,5,6]]])\n",
    "print(f'{c2}\\n{\"Object Type\":>12}  {type(c2)}\\n{\"Data Type:\":>12}  {c2.dtype}\\n{\"Shape:\":>12} \\\n",
    "{c2.shape}\\n{\"Dimension:\":>12}  {c2.ndim}\\n{\"Array Size:\":>12}  {c2.size}')"
   ]
  },
  {
   "cell_type": "code",
   "execution_count": 8,
   "id": "869d09f3-9155-4680-ac2b-5d8103f3458c",
   "metadata": {},
   "outputs": [
    {
     "name": "stdout",
     "output_type": "stream",
     "text": [
      "[[0 0 0 0 0]]\n",
      "[[1 1 1 1]\n",
      " [1 1 1 1]]\n",
      "[[7 7 7]\n",
      " [7 7 7]]\n",
      "[[1. 0. 0.]\n",
      " [0. 1. 0.]\n",
      " [0. 0. 1.]]\n"
     ]
    }
   ],
   "source": [
    "import numpy as np\n",
    "a_zeros= np.zeros((1,5), dtype=int)\n",
    "print(a_zeros)\n",
    "a_ones= np.ones((2,4), dtype=int)\n",
    "print(a_ones)\n",
    "a_seven= np.full((2,3),7)\n",
    "print(a_seven)\n",
    "print(np.eye(3))"
   ]
  },
  {
   "cell_type": "code",
   "execution_count": 10,
   "id": "a43e0bd4-fc26-4ff2-a468-a82faf96ea31",
   "metadata": {},
   "outputs": [
    {
     "name": "stdout",
     "output_type": "stream",
     "text": [
      "[[[0.55672824 0.53775221 0.59519332 0.30910325]\n",
      "  [0.81964138 0.22514558 0.75914071 0.90216183]\n",
      "  [0.15722546 0.86962581 0.30641962 0.72910569]]\n",
      "\n",
      " [[0.53529791 0.9001048  0.85143396 0.87529347]\n",
      "  [0.10727355 0.03386976 0.64479615 0.84707864]\n",
      "  [0.98857094 0.86720891 0.91274405 0.49411771]]]\n",
      "float64\n"
     ]
    }
   ],
   "source": [
    "a_rand=np.random.random((2,3,4))\n",
    "print(f'{a_rand}\\n{a_rand.dtype}')"
   ]
  },
  {
   "cell_type": "code",
   "execution_count": 14,
   "id": "c944059d-4b7e-442f-90c3-1066dbb01e3f",
   "metadata": {},
   "outputs": [
    {
     "name": "stdout",
     "output_type": "stream",
     "text": [
      "(1, 2, 4)\n",
      "9\n",
      "3\n"
     ]
    }
   ],
   "source": [
    "c1=np.array([[[1,2,3,4],[6,7,8,9]]])\n",
    "print(c1.shape)\n",
    "print(c1[0,1,3])\n",
    "print(c1[0,0,2])"
   ]
  },
  {
   "cell_type": "code",
   "execution_count": 18,
   "id": "1a84749f-b0dd-41a1-b89b-8eae2dbde5b5",
   "metadata": {},
   "outputs": [
    {
     "name": "stdout",
     "output_type": "stream",
     "text": [
      "(2, 3, 3)\n",
      "3\n",
      "18\n",
      "-1\n",
      "12\n"
     ]
    }
   ],
   "source": [
    "c=np.array([[[1,2,3],[4,5,6],[-1,-2,-3]],[[7,8,9],[10,11,12],[-4,-5,-6]]])\n",
    "print(c.shape)\n",
    "print(c.ndim)\n",
    "print(c.size)\n",
    "print(c[0,2,0])\n",
    "print(c[1,1,2])"
   ]
  },
  {
   "cell_type": "code",
   "execution_count": 20,
   "id": "14ed0e2c-2c6e-415e-863f-c296af36d9ad",
   "metadata": {},
   "outputs": [
    {
     "name": "stdout",
     "output_type": "stream",
     "text": [
      "[1, 2, 3, 4, 5, 6, -1, -2, -3, 7, 8, 9, 10, 11, 12, -4, -5, -6]\n",
      "[ 1  2  3  4  5  6 -1 -2 -3  7  8  9 10 11 12 -4 -5 -6]\n",
      "\n",
      "[ 1  2  3  4  5  6 -1 -2 -3  7  8  9 10 11 12 -4 -5 -6]\n"
     ]
    }
   ],
   "source": [
    "l=[]\n",
    "for i in c:\n",
    "    for j in i:\n",
    "        for k in j:\n",
    "            l.append(k)\n",
    "print(f'{l}\\n{np.array(l)}')\n",
    "print()\n",
    "\n",
    "#Flattening\n",
    "print(np.array(c.flat))"
   ]
  },
  {
   "cell_type": "code",
   "execution_count": 24,
   "id": "ec769073-403f-4f49-ab99-951579576a44",
   "metadata": {},
   "outputs": [
    {
     "name": "stdout",
     "output_type": "stream",
     "text": [
      "[ 0  1  2  3  4  5  6  7  8  9 10 11 12 13 14 15 16 17 18 19 20]\n",
      "[[[ 0  1  2  3  4  5  6]\n",
      "  [ 7  8  9 10 11 12 13]\n",
      "  [14 15 16 17 18 19 20]]]\n",
      "[[[ 0  1  2  3  4  5  6]]\n",
      "\n",
      " [[ 7  8  9 10 11 12 13]]\n",
      "\n",
      " [[14 15 16 17 18 19 20]]]\n",
      "[[[ 0  1  2]]\n",
      "\n",
      " [[ 3  4  5]]\n",
      "\n",
      " [[ 6  7  8]]\n",
      "\n",
      " [[ 9 10 11]]\n",
      "\n",
      " [[12 13 14]]\n",
      "\n",
      " [[15 16 17]]\n",
      "\n",
      " [[18 19 20]]]\n"
     ]
    }
   ],
   "source": [
    "g=np.arange(21)\n",
    "print(g)\n",
    "print(g.reshape(1,3,7))\n",
    "print(g.reshape(3,1,7))\n",
    "print(g.reshape(7,1,3))"
   ]
  },
  {
   "cell_type": "code",
   "execution_count": null,
   "id": "6638c436-f1c5-43b0-b952-c45e54f68017",
   "metadata": {},
   "outputs": [],
   "source": []
  }
 ],
 "metadata": {
  "kernelspec": {
   "display_name": "Python 3 (ipykernel)",
   "language": "python",
   "name": "python3"
  },
  "language_info": {
   "codemirror_mode": {
    "name": "ipython",
    "version": 3
   },
   "file_extension": ".py",
   "mimetype": "text/x-python",
   "name": "python",
   "nbconvert_exporter": "python",
   "pygments_lexer": "ipython3",
   "version": "3.7.11"
  }
 },
 "nbformat": 4,
 "nbformat_minor": 5
}
