{
  "nbformat": 4,
  "nbformat_minor": 0,
  "metadata": {
    "colab": {
      "provenance": []
    },
    "kernelspec": {
      "name": "python3",
      "display_name": "Python 3"
    },
    "language_info": {
      "name": "python"
    }
  },
  "cells": [
    {
      "cell_type": "code",
      "execution_count": 10,
      "metadata": {
        "id": "v4dtbsvyi3WW"
      },
      "outputs": [],
      "source": [
        "def Quadrant(x, y):\n",
        "    if x > 0:\n",
        "        if y > 0:\n",
        "            return 1\n",
        "        elif y < 0:\n",
        "            return 4\n",
        "    elif x < 0:\n",
        "        if y > 0:\n",
        "            return 2\n",
        "        elif y < 0:\n",
        "            return 3\n",
        "\n",
        "    # x 또는 y가 0인 경우에 대한 처리\n",
        "    if x == 0 and y != 0:\n",
        "        return \"y축 위\"\n",
        "    elif y == 0 and x != 0:\n",
        "        return \"x축 위\"\n",
        "    elif x == 0 and y == 0:\n",
        "        return \"원점\"\n"
      ]
    }
  ]
}