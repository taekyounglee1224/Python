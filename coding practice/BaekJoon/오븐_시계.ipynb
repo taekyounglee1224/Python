{
  "nbformat": 4,
  "nbformat_minor": 0,
  "metadata": {
    "colab": {
      "provenance": []
    },
    "kernelspec": {
      "name": "python3",
      "display_name": "Python 3"
    },
    "language_info": {
      "name": "python"
    }
  },
  "cells": [
    {
      "cell_type": "markdown",
      "source": [
        "#### 인공지능 오븐을 사용하는 방법은 적당한 양의 오리 훈제 재료를 인공지능 오븐에 넣으면 된다. 그러면 인공지능 오븐은 오븐구이가 끝나는 시간을 분 단위로 자동적으로 계산한다. 훈제오리구이를 시작하는 시각과 오븐구이를 하는 데 필요한 시간이 분단위로 주어졌을 때, 오븐구이가 끝나는 시각을 계산하는 함수를 작성해라\n",
        "\n",
        "#### calculate_end_time 함수는 3개의 변수: 시작 시각의 시, 시작 시각의 분, 조리 시간 을 인자로 받는다"
      ],
      "metadata": {
        "id": "IYo_SnwfqDgg"
      }
    },
    {
      "cell_type": "code",
      "execution_count": 19,
      "metadata": {
        "id": "v4dtbsvyi3WW"
      },
      "outputs": [],
      "source": [
        "def calculate_end_time(start_hour, start_minute, cooking_time):\n",
        "    # 시작 시각에 요리 시간을 더함\n",
        "    end_hour = start_hour + (start_minute + cooking_time) // 60\n",
        "    end_minute = (start_minute + cooking_time) % 60\n",
        "\n",
        "    # 계산된 시간이 24시간을 넘어가는 경우 처리\n",
        "    end_hour %= 24\n",
        "\n",
        "    return f'{end_hour}시 {end_minute}분'\n",
        ""
      ]
    },
    {
      "cell_type": "code",
      "source": [
        "calculate_end_time(20, 40, 250)"
      ],
      "metadata": {
        "colab": {
          "base_uri": "https://localhost:8080/",
          "height": 35
        },
        "id": "ygHDyLxCoIB5",
        "outputId": "35bb2f65-329d-494e-d47e-e0518324bb9c"
      },
      "execution_count": 22,
      "outputs": [
        {
          "output_type": "execute_result",
          "data": {
            "text/plain": [
              "'0시 50분'"
            ],
            "application/vnd.google.colaboratory.intrinsic+json": {
              "type": "string"
            }
          },
          "metadata": {},
          "execution_count": 22
        }
      ]
    },
    {
      "cell_type": "code",
      "source": [],
      "metadata": {
        "id": "3g3cyAO9pkZA"
      },
      "execution_count": null,
      "outputs": []
    }
  ]
}