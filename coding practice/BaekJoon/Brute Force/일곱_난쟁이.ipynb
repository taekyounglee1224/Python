{
  "nbformat": 4,
  "nbformat_minor": 0,
  "metadata": {
    "colab": {
      "provenance": []
    },
    "kernelspec": {
      "name": "python3",
      "display_name": "Python 3"
    },
    "language_info": {
      "name": "python"
    }
  },
  "cells": [
    {
      "cell_type": "markdown",
      "source": [
        "왕비를 피해 일곱 난쟁이들과 함께 평화롭게 생활하고 있던 백설공주에게 위기가 찾아왔다. 일과를 마치고 돌아온 난쟁이가 일곱 명이 아닌 아홉 명이었던 것이다.\n",
        "아홉 명의 난쟁이는 모두 자신이 \"백설 공주와 일곱 난쟁이\"의 주인공이라고 주장했다. 뛰어난 수학적 직관력을 가지고 있던 백설공주는, 다행스럽게도 일곱 난쟁이의 키의 합이 100이 됨을 기억해 냈다. 아홉 난쟁이의 키가 주어졌을 때, 백설공주를 도와 일곱 난쟁이를 찾는 프로그램을 작성하시오."
      ],
      "metadata": {
        "id": "E7X_Dh5pwYBd"
      }
    },
    {
      "cell_type": "code",
      "execution_count": 16,
      "metadata": {
        "colab": {
          "base_uri": "https://localhost:8080/"
        },
        "id": "KJt7BawVqHgO",
        "outputId": "6b941c48-1ab4-48e0-fe84-249c6b11030f"
      },
      "outputs": [
        {
          "output_type": "stream",
          "name": "stdout",
          "text": [
            "난쟁이 키를 입력하시오: 1\n",
            "난쟁이 키를 입력하시오: 2\n",
            "난쟁이 키를 입력하시오: 3\n",
            "난쟁이 키를 입력하시오: 4\n",
            "난쟁이 키를 입력하시오: 5\n",
            "난쟁이 키를 입력하시오: 6\n",
            "난쟁이 키를 입력하시오: 7\n",
            "난쟁이 키를 입력하시오: 8\n",
            "난쟁이 키를 입력하시오: 9\n",
            "\n",
            "합이 100이 되는 일곱 난쟁이의 조합을 찾을 수 없음\n"
          ]
        }
      ],
      "source": [
        "n = 1\n",
        "dwarfs_heights = []\n",
        "while n < 10:\n",
        "\n",
        "    i = int(input(\"난쟁이 키를 입력하시오: \"))\n",
        "    dwarfs_heights.append(i)\n",
        "    n += 1\n",
        "\n",
        "def find_dwarfs(heights):\n",
        "\n",
        "    m = len(heights)\n",
        "    total_height = sum(heights)\n",
        "    found = False\n",
        "\n",
        "    for j in range(m):\n",
        "      for k in range(j+1, m):\n",
        "        if total_height - (heights[j]+ heights[k]) == 100:\n",
        "          found = True\n",
        "          return [heights[p] for p in range(m) if p != j and p != k]\n",
        "\n",
        "    if not found:\n",
        "      return \"합이 100이 되는 일곱 난쟁이의 조합을 찾을 수 없음\"\n",
        "\n",
        "print()\n",
        "print(find_dwarfs(dwarfs_heights))"
      ]
    }
  ]
}