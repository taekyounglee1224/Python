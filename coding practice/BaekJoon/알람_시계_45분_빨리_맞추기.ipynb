{
  "nbformat": 4,
  "nbformat_minor": 0,
  "metadata": {
    "colab": {
      "provenance": []
    },
    "kernelspec": {
      "name": "python3",
      "display_name": "Python 3"
    },
    "language_info": {
      "name": "python"
    }
  },
  "cells": [
    {
      "cell_type": "code",
      "execution_count": 15,
      "metadata": {
        "colab": {
          "base_uri": "https://localhost:8080/"
        },
        "id": "v4dtbsvyi3WW",
        "outputId": "264d9dae-4389-4e4b-b481-12465a5f0c88"
      },
      "outputs": [
        {
          "output_type": "stream",
          "name": "stdout",
          "text": [
            "'시' 를 입력하시오'23\n",
            "'분' 을 입력하시오'40\n",
            "22 55\n"
          ]
        }
      ],
      "source": [
        "h = int(input(\"'시' 를 입력하시오'\"))\n",
        "m = int(input(\"'분' 을 입력하시오'\"))\n",
        "\n",
        "if h == 0:\n",
        "  if m >= 45:\n",
        "    print(h, m-45)\n",
        "\n",
        "  else:\n",
        "    print(h + 23, m + 15)\n",
        "\n",
        "else:\n",
        "  if m >= 45:\n",
        "    print(h, m-45)\n",
        "\n",
        "  else:\n",
        "    print(h-1, m+15)"
      ]
    },
    {
      "cell_type": "code",
      "source": [],
      "metadata": {
        "id": "ygHDyLxCoIB5"
      },
      "execution_count": null,
      "outputs": []
    }
  ]
}